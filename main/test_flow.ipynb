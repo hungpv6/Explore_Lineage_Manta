{
 "cells": [
  {
   "cell_type": "code",
   "execution_count": 1,
   "metadata": {},
   "outputs": [
    {
     "name": "stdout",
     "output_type": "stream",
     "text": [
      "os.getcwd(), c:\\Users\\hungpv6\\Documents\\GitHub\\DG_tool\\main\n"
     ]
    }
   ],
   "source": [
    "import pandas as pd\n",
    "import os\n",
    "import time\n",
    "import sys\n",
    "sys.path.append(os.path.dirname(os.getcwd()))\n",
    "from model import LineageMantaObjectOptimize\n",
    "from utils import create_raw_table, transfrom_column_name_before_create_table, convert_df_to_oracle_format\n",
    "from config import (NODE_PATH, LINEAGE_SOURCE, LINEAGE_TARGET,\n",
    "                    EXPORT_MANTA_FILE_PATH, LINEAGE_MANTA_RAW_TEST,\n",
    "                    LINEAGE_MANTA_RAW_MAIN,LINEAGE_MANTA_FLOW_TEST, \n",
    "                    LINEAGE_MANTA_FLOW_MAIN,  TABLE_MANTA_LINEAGE_RAW_COLUMN, \n",
    "                    IMPORT_MANTA_FILE_PATH, TABLE_MANTA_LINEAGE_FLOW)\n",
    "from repo import RepoLineage"
   ]
  },
  {
   "cell_type": "code",
   "execution_count": 2,
   "metadata": {},
   "outputs": [
    {
     "name": "stdout",
     "output_type": "stream",
     "text": [
      "Connection to database 'test' established successfully.\n",
      "LINEAGE_MANTA_W4\n",
      "TABLE_NAME =  FM_CLIENT_CONTACT | FILE_NAME=  relations_FM_CLIENT_CONTACT | file_path =  C:/Users/hungpv6/Downloads/manta_data_file/linage_manta_export_file/relations_FM_CLIENT_CONTACT.csv\n",
      "TABLE_NAME =  FM_CLIENT_INDVL | FILE_NAME=  relations_FM_CLIENT_INDVL | file_path =  C:/Users/hungpv6/Downloads/manta_data_file/linage_manta_export_file/relations_FM_CLIENT_INDVL.csv\n",
      "TABLE_NAME =  HDB | FILE_NAME=  relations_HDB | file_path =  C:/Users/hungpv6/Downloads/manta_data_file/linage_manta_export_file/relations_HDB.csv\n",
      "TABLE_NAME =  RB_ACCT | FILE_NAME=  relations_RB_ACCT | file_path =  C:/Users/hungpv6/Downloads/manta_data_file/linage_manta_export_file/relations_RB_ACCT.csv\n",
      "TABLE_NAME =  RB_TRAN_HIST | FILE_NAME=  relations_RB_TRAN_HIST | file_path =  C:/Users/hungpv6/Downloads/manta_data_file/linage_manta_export_file/relations_RB_TRAN_HIST.csv\n"
     ]
    }
   ],
   "source": [
    "if __name__ == '__main__':\n",
    "    # start_time = time.time()\n",
    "    database = 'test'\n",
    "    enviroment = 'DEV'\n",
    "    db_connection = RepoLineage()\n",
    "    db_connect = db_connection.get_connection(db_name='test',environment = 'DEV', user = 'dtc')\n",
    "    object = LineageMantaObjectOptimize(lineage_name= 'manta')\n",
    "    df_raw, table_name_list = create_raw_table(object)\n",
    "    df_graph = None\n",
    "\n",
    "   "
   ]
  },
  {
   "cell_type": "code",
   "execution_count": 3,
   "metadata": {},
   "outputs": [
    {
     "name": "stdout",
     "output_type": "stream",
     "text": [
      "Table HDB is empty\n"
     ]
    }
   ],
   "source": [
    "for table_name in table_name_list:\n",
    "    # time.sleep(5)\n",
    "    df = df_raw.query(f\"Table_name == '{table_name}'\")\n",
    "    if len(df) >= 1:\n",
    "        df_describe_op = object.describe_table_optimized(\n",
    "            df_path=df,\n",
    "            source_col=LINEAGE_SOURCE,\n",
    "            target_col=LINEAGE_TARGET,\n",
    "        )\n",
    "        all_values = list(df_describe_op.get(\"all_values\"))\n",
    "        redact_node_df = object.redact_node_with_int(total_nodes_df=df.copy())\n",
    "        combo_list = redact_node_df[NODE_PATH].tolist()\n",
    "        # combo_list = [1,2,1868,72,824,928,40,121,366,1691,35,548,663\n",
    "        # ,1944,509,638,1800,620,750,54,1509,2166,1531,1173,1013,74,345,245\n",
    "        # ,762,2165,1439,1525,75,631,840,1734,1738,2001,728,1728,1987,1341,145,1724]\n",
    "        dictionary_op = object.mapping_dict_nodepath_optimize(df =redact_node_df)\n",
    "        adjacency_list = object.create_adjacency_list_optimized(dictionary = dictionary_op)\n",
    "        graph = object.deploy_lineage_manta_optimized(df_raw= df.copy(),\n",
    "                                    character_split = ' ==> ',\n",
    "                                    combo_list_copy=combo_list, \n",
    "                                    dictionary=dictionary_op,\n",
    "                                    adjacency_list = adjacency_list, \n",
    "                                    source_col=LINEAGE_SOURCE, \n",
    "                                    target_col=LINEAGE_TARGET)\n",
    "        object.add_name_of_table_column(df = graph, table_name = table_name)\n",
    "        if df_graph is None:\n",
    "            df_graph = graph\n",
    "        else:\n",
    "            df_graph = pd.concat([df_graph, graph])\n",
    "    else:\n",
    "        print(f\"Table {table_name} is empty\")\n"
   ]
  },
  {
   "cell_type": "code",
   "execution_count": 4,
   "metadata": {},
   "outputs": [],
   "source": [
    "object.export_to_csv(df=df_graph, file_path=f'{EXPORT_MANTA_FILE_PATH}/df_graph.csv', index = False)\n",
    "# print(df_graph)"
   ]
  },
  {
   "cell_type": "code",
   "execution_count": 5,
   "metadata": {},
   "outputs": [],
   "source": [
    "# df_graph_unpivoted = object.unpivoted_column(df=df_graph, column_unpivoted='Flow_implement_raw', unpivoted_column_name='unpivoted_column',character_split= ' ==> ')\n",
    "df_graph_extract_node = object.extract_components_optimized(table = df_graph, column_extract='Raw_Node', column_name_extracted_list = [\n",
    "            {'table_name_extract':-2},\n",
    "            {'column_name': -1},\n",
    "            {'database_type': 0},\n",
    "            {'database_name': 1},\n",
    "            {'schema': 2}\n",
    "        ])\n",
    "# df_graph_extract_node_relations = object.extract_components_optimized(table = df_graph_extract_node, column_extract='unpivoted_column',  column_name_extracted_list = [\n",
    "#             {'table_name_relations':-2},\n",
    "#             {'column_name_relations': -1},\n",
    "#             {'database_type_relations': 0},\n",
    "#             {'database_name_relations': 1},\n",
    "#             {'schema_relations': 2}\n",
    "#         ])\n",
    "\n"
   ]
  },
  {
   "cell_type": "code",
   "execution_count": 6,
   "metadata": {},
   "outputs": [],
   "source": [
    "df_graph_final = transfrom_column_name_before_create_table(df=df_graph_extract_node)   \n",
    "pd.set_option('display.max_rows', None)"
   ]
  },
  {
   "cell_type": "code",
   "execution_count": 7,
   "metadata": {},
   "outputs": [
    {
     "data": {
      "text/plain": [
       "Index(['FLOW_RAW', 'NODE_OBJECT', 'VALUE_OBJECT_TYPE', 'TABLE_NAME_CSV',\n",
       "       'TABLE_NAME_NODE_OBJECT', 'COLUMN_NAME_OBJECT', 'SOURCE_DATABASE_TYPE',\n",
       "       'SOURCE_DATABASE_NAME', 'SCHEMA_OBJECT', 'UPDATE_TIME'],\n",
       "      dtype='object')"
      ]
     },
     "execution_count": 7,
     "metadata": {},
     "output_type": "execute_result"
    }
   ],
   "source": [
    "df_graph_final.columns"
   ]
  },
  {
   "cell_type": "code",
   "execution_count": 8,
   "metadata": {},
   "outputs": [],
   "source": [
    "# import pandas as pd\n",
    "# import numpy as np\n",
    "\n",
    "# def extract_components_optimized(table, column_extract, character_split='.', column_name_extracted_list=None):\n",
    "#     \"\"\"\n",
    "#     Extracts specific components from a column in a DataFrame using vectorized operations.\n",
    "\n",
    "#     Parameters:\n",
    "#         table (pd.DataFrame): The input DataFrame.\n",
    "#         column_extract (str): The column from which components will be extracted.\n",
    "#         character_split (str, optional): The delimiter for splitting. Defaults to '.'.\n",
    "#         column_name_extracted_list (list, optional): List of dicts mapping column names to index positions.\n",
    "\n",
    "#     Returns:\n",
    "#         pd.DataFrame: Updated DataFrame with extracted components.\n",
    "#     \"\"\"\n",
    "#     if column_name_extracted_list is None:\n",
    "#         column_name_extracted_list = [\n",
    "#             {'table_name':-2},\n",
    "#             {'column_name': -1},\n",
    "#             {'database_type': 0},\n",
    "#             {'database_name': 1},\n",
    "#             {'schema': 2}\n",
    "#         ]\n",
    "\n",
    "#     # Tách dữ liệu thành list\n",
    "#     split_series = table[column_extract].astype(str).str.split(character_split)\n",
    "\n",
    "#     # Tạo các cột mới với giá trị mặc định là NaN\n",
    "#     for item in column_name_extracted_list:\n",
    "#         column_name, index_position = next(iter(item.items()))\n",
    "        \n",
    "#         # Gán giá trị dựa trên điều kiện: Nếu dòng có đủ phần tử thì lấy giá trị, nếu không thì NaN\n",
    "#         table[column_name] = split_series.apply(lambda x: x[index_position] if len(x) > abs(index_position) else np.nan)\n",
    "\n",
    "#     return table\n",
    "# df = pd.DataFrame({\n",
    "#     'unpivoted_column': [\n",
    "#         'Oracle.W4DBN4.HDB.YGACCOUNT.YGACCOUNT_BODY.<6,1>PLSQL_BLOCK.<10,5>SELECT',\n",
    "#         'Oracle.W4DBN4.HDB.YGACCOUNT.YGACCOUNT_BODY',\n",
    "#         'Oracle.W4DBN4.HDB'\n",
    "#     ]\n",
    "# })\n",
    "\n",
    "# column_name_extracted_list = [\n",
    "#     {'table_name_relations': -2},\n",
    "#     {'column_name_relations': -1},\n",
    "#     {'database_type_relations': 0},\n",
    "#     {'database_name_relations': 1},\n",
    "#     {'schema_relations': 2}\n",
    "# ]\n",
    "\n",
    "# df_result = extract_components_optimized(df, 'unpivoted_column', '.', column_name_extracted_list)\n",
    "# print(df_result)\n"
   ]
  },
  {
   "cell_type": "code",
   "execution_count": null,
   "metadata": {},
   "outputs": [],
   "source": []
  },
  {
   "cell_type": "code",
   "execution_count": 9,
   "metadata": {},
   "outputs": [],
   "source": [
    "# print(df_graph.head(100))\n",
    "# print(len(df_graph))\n",
    "\n",
    "        "
   ]
  },
  {
   "cell_type": "code",
   "execution_count": null,
   "metadata": {},
   "outputs": [],
   "source": []
  },
  {
   "cell_type": "code",
   "execution_count": null,
   "metadata": {},
   "outputs": [],
   "source": []
  },
  {
   "cell_type": "code",
   "execution_count": 10,
   "metadata": {},
   "outputs": [],
   "source": [
    "# data = db_connection.create_lineage_manta_table(connection = db_connect,\n",
    "#                                                 table_name = LINEAGE_MANTA_RAW_MAIN,\n",
    "#                                                 column_definitions= TABLE_MANTA_LINEAGE_RAW_COLUMN)\n",
    "# db_connection.insert_data_from_dataframe(connection = db_connect, table_name = LINEAGE_MANTA_RAW_MAIN, dataframe=convert_df_to_oracle_format(transfrom_column_name_before_create_table(df_raw)))"
   ]
  },
  {
   "cell_type": "code",
   "execution_count": 11,
   "metadata": {},
   "outputs": [],
   "source": [
    "# df_raw.to_csv(f'{EXPORT_MANTA_FILE_PATH}/df_raw.csv', index = False)# "
   ]
  },
  {
   "cell_type": "code",
   "execution_count": 12,
   "metadata": {},
   "outputs": [],
   "source": [
    "data = db_connection.create_lineage_manta_table(connection = db_connect,\n",
    "                                                table_name = LINEAGE_MANTA_FLOW_MAIN,\n",
    "                                                column_definitions= TABLE_MANTA_LINEAGE_FLOW)\n",
    "db_connection.insert_data_from_dataframe(connection = db_connect, table_name = LINEAGE_MANTA_FLOW_MAIN, dataframe=convert_df_to_oracle_format((df_graph_final)))"
   ]
  },
  {
   "cell_type": "code",
   "execution_count": 13,
   "metadata": {},
   "outputs": [],
   "source": [
    "# db_connection.rename_column(connection = db_connect, table_name = LINEAGE_MANTA_FLOW_MAIN, old_column_name = 'SCHEMA', new_column_name = 'SCHEMA_OBJECT')"
   ]
  },
  {
   "cell_type": "code",
   "execution_count": 14,
   "metadata": {},
   "outputs": [
    {
     "name": "stdout",
     "output_type": "stream",
     "text": [
      "807996\n"
     ]
    }
   ],
   "source": [
    "print(len(df_graph_final))"
   ]
  },
  {
   "cell_type": "code",
   "execution_count": null,
   "metadata": {},
   "outputs": [],
   "source": []
  },
  {
   "cell_type": "code",
   "execution_count": null,
   "metadata": {},
   "outputs": [],
   "source": []
  },
  {
   "cell_type": "code",
   "execution_count": null,
   "metadata": {},
   "outputs": [],
   "source": []
  }
 ],
 "metadata": {
  "kernelspec": {
   "display_name": "base",
   "language": "python",
   "name": "python3"
  },
  "language_info": {
   "codemirror_mode": {
    "name": "ipython",
    "version": 3
   },
   "file_extension": ".py",
   "mimetype": "text/x-python",
   "name": "python",
   "nbconvert_exporter": "python",
   "pygments_lexer": "ipython3",
   "version": "3.9.7"
  }
 },
 "nbformat": 4,
 "nbformat_minor": 2
}

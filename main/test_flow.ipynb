{
 "cells": [
  {
   "cell_type": "code",
   "execution_count": 1,
   "metadata": {},
   "outputs": [],
   "source": [
    "import pandas as pd\n",
    "import os\n",
    "import time\n",
    "import sys\n",
    "sys.path.append(os.path.dirname(os.getcwd()))\n",
    "from model import LineageMantaObjectOptimize\n",
    "from utils import create_raw_table\n",
    "from config import NODE_PATH, LINEAGE_SOURCE, LINEAGE_TARGET"
   ]
  },
  {
   "cell_type": "code",
   "execution_count": 2,
   "metadata": {},
   "outputs": [
    {
     "name": "stdout",
     "output_type": "stream",
     "text": [
      "LINEAGE_MANTA_W4\n",
      "TABLE_NAME =  FM_CLIENT_CONTACT | FILE_NAME=  relations_FM_CLIENT_CONTACT | file_path =  C:/Users/hungpv6/Downloads/manta_data_file/linage_manta_export_file/relations_FM_CLIENT_CONTACT.csv\n"
     ]
    }
   ],
   "source": [
    "if __name__ == '__main__':\n",
    "    start_time = time.time()\n",
    "    object = LineageMantaObjectOptimize(lineage_name= 'manta')\n",
    "    df_raw, table_name_list = create_raw_table(object)\n",
    "    df_graph = None\n",
    "    pd.set_option('display.max_rows', None)\n",
    "    for table_name in table_name_list:\n",
    "        df = df_raw.query(f\"Table_name == '{table_name}' \")\n",
    "        df_describe_op = object.describe_table_optimized(\n",
    "            df_path=df,\n",
    "            source_col=LINEAGE_SOURCE,\n",
    "            target_col=LINEAGE_TARGET,\n",
    "        )\n",
    "        all_values = list(df_describe_op.get(\"all_values\"))\n",
    "        redact_node_df = object.redact_node_with_int(total_nodes_df=df)\n",
    "        combo_list = redact_node_df[NODE_PATH].tolist()\n",
    "        dictionary_op = object.mapping_dict_nodepath_optimize(df =redact_node_df)\n",
    "        \n",
    "        adjacency_list = object.create_adjacency_list_optimized(dictionary = dictionary_op)\n",
    "        graph = object.deploy_lineage_manta_optimized(df_raw= df, \n",
    "                                    combo_list_copy=combo_list, \n",
    "                                    dictionary=dictionary_op,\n",
    "                                    adjacency_list = adjacency_list, \n",
    "                                    source_col=LINEAGE_SOURCE, \n",
    "                                    target_col=LINEAGE_TARGET)\n",
    "        # if df_graph is None:\n",
    "        #     df_graph = graph\n",
    "        # else:\n",
    "        #     df_graph = pd.concat([df_graph, graph])"
   ]
  },
  {
   "cell_type": "code",
   "execution_count": 3,
   "metadata": {},
   "outputs": [],
   "source": [
    "df_graph = graph"
   ]
  },
  {
   "cell_type": "code",
   "execution_count": 5,
   "metadata": {},
   "outputs": [
    {
     "name": "stdout",
     "output_type": "stream",
     "text": [
      "94633\n"
     ]
    }
   ],
   "source": [
    "print(len(df_graph))"
   ]
  }
 ],
 "metadata": {
  "kernelspec": {
   "display_name": "base",
   "language": "python",
   "name": "python3"
  },
  "language_info": {
   "codemirror_mode": {
    "name": "ipython",
    "version": 3
   },
   "file_extension": ".py",
   "mimetype": "text/x-python",
   "name": "python",
   "nbconvert_exporter": "python",
   "pygments_lexer": "ipython3",
   "version": "3.9.7"
  }
 },
 "nbformat": 4,
 "nbformat_minor": 2
}

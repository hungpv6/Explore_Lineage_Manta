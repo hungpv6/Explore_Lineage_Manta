{
 "cells": [
  {
   "cell_type": "code",
   "execution_count": 1,
   "metadata": {},
   "outputs": [
    {
     "name": "stdout",
     "output_type": "stream",
     "text": [
      "os.getcwd(), c:\\Users\\hungpv6\\OneDrive - hdbank.com.vn\\Manage jobs\\Lineage_manta\\main\n"
     ]
    }
   ],
   "source": [
    "import pandas as pd\n",
    "import os\n",
    "import time\n",
    "import sys\n",
    "sys.path.append(os.path.dirname(os.getcwd()))\n",
    "from model import LineageMantaObject\n",
    "from utils import create_raw_table, transfrom_column_name_before_create_table, convert_df_to_oracle_format\n",
    "from config import NODE_PATH, LINEAGE_SOURCE, LINEAGE_TARGET,EXPORT_MANTA_FILE_PATH, LINEAGE_MANTA_TABLE_NAME_RAW, TABLE_MANTA_LINEAGE_RAW_COLUMN, LINEAGE_MANTA_TABLE_FLOW_TEST, TABLE_MANTA_LINEAGE_FLOW\n",
    "from repo import RepoLineage"
   ]
  },
  {
   "cell_type": "code",
   "execution_count": 2,
   "metadata": {},
   "outputs": [
    {
     "name": "stdout",
     "output_type": "stream",
     "text": [
      "LINEAGE_MANTA_W4\n",
      "TABLE_NAME =  FM_CLIENT_CONTACT | FILE_NAME=  relations_FM_CLIENT_CONTACT | file_path =  C:/Users/hungpv6/Downloads/manta_data_file/linage_manta_export_file/relations_FM_CLIENT_CONTACT.csv\n"
     ]
    },
    {
     "ename": "KeyboardInterrupt",
     "evalue": "",
     "output_type": "error",
     "traceback": [
      "\u001b[1;31m---------------------------------------------------------------------------\u001b[0m",
      "\u001b[1;31mKeyboardInterrupt\u001b[0m                         Traceback (most recent call last)",
      "\u001b[1;32m~\\AppData\\Local\\Temp/ipykernel_22804/2591426984.py\u001b[0m in \u001b[0;36m<module>\u001b[1;34m\u001b[0m\n\u001b[0;32m     21\u001b[0m         \u001b[0mcombo_list_copy\u001b[0m \u001b[1;33m=\u001b[0m \u001b[0mcombo_list\u001b[0m\u001b[1;33m.\u001b[0m\u001b[0mcopy\u001b[0m\u001b[1;33m(\u001b[0m\u001b[1;33m)\u001b[0m\u001b[1;33m\u001b[0m\u001b[1;33m\u001b[0m\u001b[0m\n\u001b[0;32m     22\u001b[0m \u001b[1;33m\u001b[0m\u001b[0m\n\u001b[1;32m---> 23\u001b[1;33m         graph = object.deploy_lineage_manta(df_raw= df, \n\u001b[0m\u001b[0;32m     24\u001b[0m                                             \u001b[0mcombo_list_copy\u001b[0m\u001b[1;33m=\u001b[0m\u001b[0mcombo_list_copy\u001b[0m\u001b[1;33m,\u001b[0m\u001b[1;33m\u001b[0m\u001b[1;33m\u001b[0m\u001b[0m\n\u001b[0;32m     25\u001b[0m                                             \u001b[0mdictionary\u001b[0m\u001b[1;33m=\u001b[0m\u001b[0mdictionary\u001b[0m\u001b[1;33m,\u001b[0m\u001b[1;33m\u001b[0m\u001b[1;33m\u001b[0m\u001b[0m\n",
      "\u001b[1;32mc:\\Users\\hungpv6\\OneDrive - hdbank.com.vn\\Manage jobs\\Lineage_manta\\model\\lineage\\lineage_manta_deploy\\lineage_manta_implement.py\u001b[0m in \u001b[0;36mdeploy_lineage_manta\u001b[1;34m(self, df_raw, combo_list_copy, source_col, target_col, dictionary, adjacency_list, columns_name, flow_name, id_vars, node_name, flow_implement_raw, value_vars, Raw_Node_column_name, character_split, remove_duplicate_columns, select_columns, filter_object_type_list, value_object_type_name, sort_by)\u001b[0m\n\u001b[0;32m     88\u001b[0m         \u001b[1;32mtry\u001b[0m\u001b[1;33m:\u001b[0m\u001b[1;33m\u001b[0m\u001b[1;33m\u001b[0m\u001b[0m\n\u001b[0;32m     89\u001b[0m \u001b[1;33m\u001b[0m\u001b[0m\n\u001b[1;32m---> 90\u001b[1;33m             graph = self.process_lineage(combo_list_copy = combo_list_copy, \n\u001b[0m\u001b[0;32m     91\u001b[0m                                          \u001b[0mdictionary\u001b[0m \u001b[1;33m=\u001b[0m \u001b[0mdictionary\u001b[0m\u001b[1;33m,\u001b[0m\u001b[1;33m\u001b[0m\u001b[1;33m\u001b[0m\u001b[0m\n\u001b[0;32m     92\u001b[0m                                          adjacency_list = adjacency_list)\n",
      "\u001b[1;32mc:\\Users\\hungpv6\\OneDrive - hdbank.com.vn\\Manage jobs\\Lineage_manta\\model\\lineage\\lineage_exploit_data\\lineage_exploit.py\u001b[0m in \u001b[0;36mprocess_lineage\u001b[1;34m(self, combo_list_copy, dictionary, adjacency_list)\u001b[0m\n\u001b[0;32m    292\u001b[0m                     \u001b[0mself\u001b[0m\u001b[1;33m.\u001b[0m\u001b[0mexploit_lineage_manta\u001b[0m\u001b[1;33m.\u001b[0m\u001b[0merror\u001b[0m\u001b[1;33m(\u001b[0m\u001b[1;34mf\"Time limit exceeded. Aborting lineage construction. Time elapsed: {int(end_time) - int(start_time)} seconds. Time limit: 120 seconds\"\u001b[0m\u001b[1;33m)\u001b[0m\u001b[1;33m\u001b[0m\u001b[1;33m\u001b[0m\u001b[0m\n\u001b[0;32m    293\u001b[0m                     \u001b[1;32mbreak\u001b[0m\u001b[1;33m\u001b[0m\u001b[1;33m\u001b[0m\u001b[0m\n\u001b[1;32m--> 294\u001b[1;33m             \u001b[1;32mreturn\u001b[0m \u001b[0mremove_subsets\u001b[0m\u001b[1;33m(\u001b[0m\u001b[0mgraph\u001b[0m\u001b[1;33m)\u001b[0m\u001b[1;33m\u001b[0m\u001b[1;33m\u001b[0m\u001b[0m\n\u001b[0m\u001b[0;32m    295\u001b[0m         \u001b[1;32mexcept\u001b[0m \u001b[0mException\u001b[0m \u001b[1;32mas\u001b[0m \u001b[0me\u001b[0m\u001b[1;33m:\u001b[0m\u001b[1;33m\u001b[0m\u001b[1;33m\u001b[0m\u001b[0m\n\u001b[0;32m    296\u001b[0m             \u001b[0mself\u001b[0m\u001b[1;33m.\u001b[0m\u001b[0mexploit_lineage_manta\u001b[0m\u001b[1;33m.\u001b[0m\u001b[0merror\u001b[0m\u001b[1;33m(\u001b[0m\u001b[1;34mf\"Error in lineage_manta: {e}\"\u001b[0m\u001b[1;33m)\u001b[0m\u001b[1;33m\u001b[0m\u001b[1;33m\u001b[0m\u001b[0m\n",
      "\u001b[1;32mc:\\Users\\hungpv6\\OneDrive - hdbank.com.vn\\Manage jobs\\Lineage_manta\\model\\lineage\\lineage_exploit_data\\lineage_exploit.py\u001b[0m in \u001b[0;36mremove_subsets\u001b[1;34m(paths)\u001b[0m\n\u001b[0;32m    246\u001b[0m                 \u001b[0mfiltered_paths\u001b[0m \u001b[1;33m=\u001b[0m \u001b[1;33m[\u001b[0m\u001b[1;33m]\u001b[0m\u001b[1;33m\u001b[0m\u001b[1;33m\u001b[0m\u001b[0m\n\u001b[0;32m    247\u001b[0m                 \u001b[1;32mfor\u001b[0m \u001b[0mpath\u001b[0m \u001b[1;32min\u001b[0m \u001b[0mpaths\u001b[0m\u001b[1;33m:\u001b[0m\u001b[1;33m\u001b[0m\u001b[1;33m\u001b[0m\u001b[0m\n\u001b[1;32m--> 248\u001b[1;33m                     \u001b[1;32mif\u001b[0m \u001b[1;32mnot\u001b[0m \u001b[0many\u001b[0m\u001b[1;33m(\u001b[0m\u001b[0mset\u001b[0m\u001b[1;33m(\u001b[0m\u001b[0mpath\u001b[0m\u001b[1;33m)\u001b[0m \u001b[1;33m<\u001b[0m \u001b[0mother\u001b[0m \u001b[1;32mfor\u001b[0m \u001b[0mother\u001b[0m \u001b[1;32min\u001b[0m \u001b[0mpath_sets\u001b[0m \u001b[1;32mif\u001b[0m \u001b[0mpath\u001b[0m \u001b[1;33m!=\u001b[0m \u001b[0mlist\u001b[0m\u001b[1;33m(\u001b[0m\u001b[0mother\u001b[0m\u001b[1;33m)\u001b[0m\u001b[1;33m)\u001b[0m\u001b[1;33m:\u001b[0m\u001b[1;33m\u001b[0m\u001b[1;33m\u001b[0m\u001b[0m\n\u001b[0m\u001b[0;32m    249\u001b[0m                         \u001b[0mfiltered_paths\u001b[0m\u001b[1;33m.\u001b[0m\u001b[0mappend\u001b[0m\u001b[1;33m(\u001b[0m\u001b[0mpath\u001b[0m\u001b[1;33m)\u001b[0m\u001b[1;33m\u001b[0m\u001b[1;33m\u001b[0m\u001b[0m\n\u001b[0;32m    250\u001b[0m                 \u001b[1;32mreturn\u001b[0m \u001b[0mfiltered_paths\u001b[0m\u001b[1;33m\u001b[0m\u001b[1;33m\u001b[0m\u001b[0m\n",
      "\u001b[1;32mc:\\Users\\hungpv6\\OneDrive - hdbank.com.vn\\Manage jobs\\Lineage_manta\\model\\lineage\\lineage_exploit_data\\lineage_exploit.py\u001b[0m in \u001b[0;36m<genexpr>\u001b[1;34m(.0)\u001b[0m\n\u001b[0;32m    246\u001b[0m                 \u001b[0mfiltered_paths\u001b[0m \u001b[1;33m=\u001b[0m \u001b[1;33m[\u001b[0m\u001b[1;33m]\u001b[0m\u001b[1;33m\u001b[0m\u001b[1;33m\u001b[0m\u001b[0m\n\u001b[0;32m    247\u001b[0m                 \u001b[1;32mfor\u001b[0m \u001b[0mpath\u001b[0m \u001b[1;32min\u001b[0m \u001b[0mpaths\u001b[0m\u001b[1;33m:\u001b[0m\u001b[1;33m\u001b[0m\u001b[1;33m\u001b[0m\u001b[0m\n\u001b[1;32m--> 248\u001b[1;33m                     \u001b[1;32mif\u001b[0m \u001b[1;32mnot\u001b[0m \u001b[0many\u001b[0m\u001b[1;33m(\u001b[0m\u001b[0mset\u001b[0m\u001b[1;33m(\u001b[0m\u001b[0mpath\u001b[0m\u001b[1;33m)\u001b[0m \u001b[1;33m<\u001b[0m \u001b[0mother\u001b[0m \u001b[1;32mfor\u001b[0m \u001b[0mother\u001b[0m \u001b[1;32min\u001b[0m \u001b[0mpath_sets\u001b[0m \u001b[1;32mif\u001b[0m \u001b[0mpath\u001b[0m \u001b[1;33m!=\u001b[0m \u001b[0mlist\u001b[0m\u001b[1;33m(\u001b[0m\u001b[0mother\u001b[0m\u001b[1;33m)\u001b[0m\u001b[1;33m)\u001b[0m\u001b[1;33m:\u001b[0m\u001b[1;33m\u001b[0m\u001b[1;33m\u001b[0m\u001b[0m\n\u001b[0m\u001b[0;32m    249\u001b[0m                         \u001b[0mfiltered_paths\u001b[0m\u001b[1;33m.\u001b[0m\u001b[0mappend\u001b[0m\u001b[1;33m(\u001b[0m\u001b[0mpath\u001b[0m\u001b[1;33m)\u001b[0m\u001b[1;33m\u001b[0m\u001b[1;33m\u001b[0m\u001b[0m\n\u001b[0;32m    250\u001b[0m                 \u001b[1;32mreturn\u001b[0m \u001b[0mfiltered_paths\u001b[0m\u001b[1;33m\u001b[0m\u001b[1;33m\u001b[0m\u001b[0m\n",
      "\u001b[1;31mKeyboardInterrupt\u001b[0m: "
     ]
    }
   ],
   "source": [
    "\n",
    "if __name__ == '__main__':\n",
    "    start_time = time.time()\n",
    "    object = LineageMantaObject(lineage_name= 'manta')\n",
    "    df_raw, table_name_list = create_raw_table(object)\n",
    "    df_graph = None\n",
    "    pd.set_option('display.max_rows', None)\n",
    "    for table_name in table_name_list:\n",
    "        df = df_raw.query(f\"Table_name == '{table_name}' \")\n",
    "        # df = df_raw.loc[df_raw['TABLE_NAME'] == table_name]\n",
    "        df_describe = object.describe_table(\n",
    "            df_path=df,\n",
    "            source_col=LINEAGE_SOURCE,\n",
    "            target_col=LINEAGE_TARGET,\n",
    "\n",
    "        )\n",
    "        all_values = list(df_describe['all_values'])\n",
    "        redact_node_df = object.redact_node_with_int(total_nodes_df=df)\n",
    "        combo_list = redact_node_df[NODE_PATH].tolist()\n",
    "        dictionary = object.mapping_dict_nodepath(df =redact_node_df)\n",
    "        adjacency_list = object.create_adjacency_list(dictionary = dictionary )\n",
    "        combo_list_copy = combo_list.copy()\n",
    "        \n",
    "        graph = object.deploy_lineage_manta(df_raw= df, \n",
    "                                            combo_list_copy=combo_list_copy, \n",
    "                                            dictionary=dictionary,\n",
    "                                            adjacency_list = adjacency_list, \n",
    "                                            source_col=LINEAGE_SOURCE, \n",
    "                                            target_col=LINEAGE_TARGET)\n",
    "        object.add_name_of_table_column(df = graph, table_name = table_name)\n",
    "        if df_graph is None:\n",
    "            df_graph = graph\n",
    "        else:\n",
    "            df_graph = pd.concat([df_graph, graph])\n",
    "        end_time = time.time()\n",
    "        if (int(end_time) - int(start_time)) >= 300:\n",
    "            print(f\"Time elapsed --- need impove the algorithm: {end_time - start_time} seconds\")\n",
    "            break\n",
    "    df_graph = object.extract_components(table = df_graph, column_extract='Raw_Node')\n",
    "    df_graph = transfrom_column_name_before_create_table(df=df_graph)\n"
   ]
  },
  {
   "cell_type": "code",
   "execution_count": 3,
   "metadata": {},
   "outputs": [],
   "source": [
    "# print(type(df_graph))\n",
    "# print(df_graph.head(10))\n"
   ]
  },
  {
   "cell_type": "code",
   "execution_count": 4,
   "metadata": {},
   "outputs": [],
   "source": [
    "# print(df_graph.head(10)) "
   ]
  },
  {
   "cell_type": "code",
   "execution_count": 5,
   "metadata": {},
   "outputs": [
    {
     "name": "stdout",
     "output_type": "stream",
     "text": [
      "Connection to database 'test' established successfully.\n"
     ]
    }
   ],
   "source": [
    "database = 'test'\n",
    "enviroment = 'DEV'\n",
    "db_connection = RepoLineage()\n",
    "db_connect = db_connection.get_connection(db_name='test',environment = 'DEV', user = 'dtc')\n",
    "# data = db_connection.create_lineage_manta_table(connection = db_connect,\n",
    "#                                                 table_name = LINEAGE_MANTA_TABLE_NAME_RAW,\n",
    "#                                                 column_definitions= TABLE_MANTA_LINEAGE_RAW_COLUMN)\n",
    "# db_connection.insert_data_from_dataframe(connection = db_connect, table_name = LINEAGE_MANTA_TABLE_NAME_RAW, dataframe=convert_df_to_oracle_format(transfrom_column_name_before_create_table(df_raw)))"
   ]
  },
  {
   "cell_type": "code",
   "execution_count": 12,
   "metadata": {},
   "outputs": [],
   "source": [
    "data = db_connection.create_lineage_manta_table(connection = db_connect,\n",
    "                                                table_name = LINEAGE_MANTA_TABLE_FLOW_TEST,\n",
    "                                                column_definitions= TABLE_MANTA_LINEAGE_FLOW)\n",
    "\n"
   ]
  },
  {
   "cell_type": "code",
   "execution_count": 13,
   "metadata": {},
   "outputs": [],
   "source": [
    "db_connection.insert_data_from_dataframe(connection = db_connect, table_name = LINEAGE_MANTA_TABLE_FLOW_TEST, dataframe=convert_df_to_oracle_format(transfrom_column_name_before_create_table(df_graph)))"
   ]
  },
  {
   "cell_type": "code",
   "execution_count": 8,
   "metadata": {},
   "outputs": [],
   "source": [
    "# data = db_connection.get_data(connection = db_connect, query = f\"SELECT * FROM {LINEAGE_MANTA_TABLE_NAME_RAW} WHERE ROWNUM <= 1000\")\n",
    "# print(data)"
   ]
  },
  {
   "cell_type": "code",
   "execution_count": null,
   "metadata": {},
   "outputs": [
    {
     "name": "stdout",
     "output_type": "stream",
     "text": [
      "[('ACCOUNT', 'Oracle.W4DBN4.HDB.YTACCOUNT.YTACCOUNT_BODY.<8,1>PLSQL_BLOCK.<12,14>YTACCOUNT.REC.REMOTE_VERSION,Oracle.W4DBN4.HDB.YGACCOUNT.REC.REMOTE_VERSION,Oracle.W4DBN4.HDB.YTACCOUNT.REC.REMOTE_VERSION,Oracle.W4DBN4.HDB.YTACCOUNT.YTACCOUNT_BODY.<8,1>PLSQL_BLOCK.<13,5>ASSIGNMENT.40 REMOTE_VERSION,Oracle.W4DBN4.HDB.CUST_DOC_IN_STAT_AFTER.CUST_DOC_IN_STAT_AFTER_BODY.CALC_MTR.CALC_MTR_BODY.INIT_CARD_MTR.INIT_CARD_MTR_BODY.<193,5>PLSQL_BLOCK.<199,20>YGACCOUNT.REC.REMOTE_VERSION,Oracle.W4DBN4.HDB.ACCOUNT.REMOTE_VERSION,Oracle.W4DBN4.HDB.YTACCOUNT.YTACCOUNT_BODY.<8,1>PLSQL_BLOCK.<58,5>UPDATE.34 REMOTE_VERSION,Oracle.W4DBN4.HDB.YGACCOUNT.YGACCOUNT_BODY.<6,1>PLSQL_BLOCK.<10,5>SELECT INTO.35 REMOTE_VERSION', 'Oracle.W4DBN4.HDB.YGACCOUNT.YGACCOUNT_BODY.<6,1>PLSQL_BLOCK.<10,5>SELECT INTO.35 REMOTE_VERSION', 'PLSQL SelectInto', 'Oracle', 'W4DBN4', 'HDB', datetime.datetime(2025, 2, 6, 10, 42, 9)), ('ACCOUNT', 'Oracle.W4DBN4.HDB.YTACCOUNT.YTACCOUNT_BODY.<8,1>PLSQL_BLOCK.<12,14>YTACCOUNT.REC.REMOTE_VERSION,Oracle.W4DBN4.HDB.YGACCOUNT.REC.REMOTE_VERSION,Oracle.W4DBN4.HDB.YTACCOUNT.REC.REMOTE_VERSION,Oracle.W4DBN4.HDB.YTACCOUNT.YTACCOUNT_BODY.<8,1>PLSQL_BLOCK.<13,5>ASSIGNMENT.40 REMOTE_VERSION,Oracle.W4DBN4.HDB.ACCOUNT.REMOTE_VERSION,Oracle.W4DBN4.HDB.YTACCOUNT.YTACCOUNT_BODY.<8,1>PLSQL_BLOCK.<58,5>UPDATE.34 REMOTE_VERSION,Oracle.W4DBN4.HDB.YGACCOUNT.YGACCOUNT_BODY.<6,1>PLSQL_BLOCK.<10,5>SELECT INTO.35 REMOTE_VERSION,Oracle.W4DBN4.HDB.CUST_DOC_IN_STAT_AFTER.CUST_DOC_IN_STAT_AFTER_BODY.CALC_MTR_GLFEE.CALC_MTR_GLFEE_BODY.INIT_CARD_MTR_GLFEE.INIT_CARD_MTR_GLFEE_BODY.<453,5>PLSQL_BLOCK.<455,20>YGACCOUNT.REC.REMOTE_VERSION', 'Oracle.W4DBN4.HDB.YTACCOUNT.YTACCOUNT_BODY.<8,1>PLSQL_BLOCK.<13,5>ASSIGNMENT.40 REMOTE_VERSION', 'PLSQL VarAssignment', 'Oracle', 'W4DBN4', 'HDB', datetime.datetime(2025, 2, 6, 10, 42, 9)), ('ACCOUNT', 'Oracle.W4DBN4.HDB.YTACCOUNT.YTACCOUNT_BODY.<8,1>PLSQL_BLOCK.<12,14>YTACCOUNT.REC.REMOTE_VERSION,Oracle.W4DBN4.HDB.YGACCOUNT.REC.REMOTE_VERSION,Oracle.W4DBN4.HDB.YTACCOUNT.REC.REMOTE_VERSION,Oracle.W4DBN4.HDB.YTACCOUNT.YTACCOUNT_BODY.<8,1>PLSQL_BLOCK.<13,5>ASSIGNMENT.40 REMOTE_VERSION,Oracle.W4DBN4.HDB.ACCOUNT.REMOTE_VERSION,Oracle.W4DBN4.HDB.YTACCOUNT.YTACCOUNT_BODY.<8,1>PLSQL_BLOCK.<58,5>UPDATE.34 REMOTE_VERSION,Oracle.W4DBN4.HDB.YGACCOUNT.YGACCOUNT_BODY.<6,1>PLSQL_BLOCK.<10,5>SELECT INTO.35 REMOTE_VERSION,Oracle.W4DBN4.HDB.CUST_DOC_IN_STAT_AFTER.CUST_DOC_IN_STAT_AFTER_BODY.CALC_MTR_GLFEE.CALC_MTR_GLFEE_BODY.INIT_CARD_MTR_GLFEE.INIT_CARD_MTR_GLFEE_BODY.<453,5>PLSQL_BLOCK.<455,20>YGACCOUNT.REC.REMOTE_VERSION', 'Oracle.W4DBN4.HDB.YTACCOUNT.YTACCOUNT_BODY.<8,1>PLSQL_BLOCK.<58,5>UPDATE.34 REMOTE_VERSION', 'PLSQL Update', 'Oracle', 'W4DBN4', 'HDB', datetime.datetime(2025, 2, 6, 10, 42, 9)), ('ACCOUNT', 'Oracle.W4DBN4.HDB.YTACCOUNT.YTACCOUNT_BODY.<8,1>PLSQL_BLOCK.<12,14>YTACCOUNT.REC.REMOTE_VERSION,Oracle.W4DBN4.HDB.YGACCOUNT.REC.REMOTE_VERSION,Oracle.W4DBN4.HDB.YTACCOUNT.REC.REMOTE_VERSION,Oracle.W4DBN4.HDB.YTACCOUNT.YTACCOUNT_BODY.<8,1>PLSQL_BLOCK.<13,5>ASSIGNMENT.40 REMOTE_VERSION,Oracle.W4DBN4.HDB.ACCOUNT.REMOTE_VERSION,Oracle.W4DBN4.HDB.YTACCOUNT.YTACCOUNT_BODY.<8,1>PLSQL_BLOCK.<58,5>UPDATE.34 REMOTE_VERSION,Oracle.W4DBN4.HDB.YGACCOUNT.YGACCOUNT_BODY.<6,1>PLSQL_BLOCK.<10,5>SELECT INTO.35 REMOTE_VERSION,Oracle.W4DBN4.HDB.CUST_DOC_IN_STAT_AFTER.CUST_DOC_IN_STAT_AFTER_BODY.CALC_MTR_GLFEE.CALC_MTR_GLFEE_BODY.INIT_CARD_MTR_GLFEE.INIT_CARD_MTR_GLFEE_BODY.<453,5>PLSQL_BLOCK.<455,20>YGACCOUNT.REC.REMOTE_VERSION', 'Oracle.W4DBN4.HDB.ACCOUNT.REMOTE_VERSION', 'Table', 'Oracle', 'W4DBN4', 'HDB', datetime.datetime(2025, 2, 6, 10, 42, 9)), ('ACCOUNT', 'Oracle.W4DBN4.HDB.YTACCOUNT.YTACCOUNT_BODY.<8,1>PLSQL_BLOCK.<12,14>YTACCOUNT.REC.REMOTE_VERSION,Oracle.W4DBN4.HDB.YGACCOUNT.REC.REMOTE_VERSION,Oracle.W4DBN4.HDB.YTACCOUNT.REC.REMOTE_VERSION,Oracle.W4DBN4.HDB.YTACCOUNT.YTACCOUNT_BODY.<8,1>PLSQL_BLOCK.<13,5>ASSIGNMENT.40 REMOTE_VERSION,Oracle.W4DBN4.HDB.ACCOUNT.REMOTE_VERSION,Oracle.W4DBN4.HDB.YTACCOUNT.YTACCOUNT_BODY.<8,1>PLSQL_BLOCK.<58,5>UPDATE.34 REMOTE_VERSION,Oracle.W4DBN4.HDB.YGACCOUNT.YGACCOUNT_BODY.<6,1>PLSQL_BLOCK.<10,5>SELECT INTO.35 REMOTE_VERSION,Oracle.W4DBN4.HDB.CUST_DOC_IN_STAT_AFTER.CUST_DOC_IN_STAT_AFTER_BODY.CALC_MTR_GLFEE.CALC_MTR_GLFEE_BODY.INIT_CARD_MTR_GLFEE.INIT_CARD_MTR_GLFEE_BODY.<453,5>PLSQL_BLOCK.<455,20>YGACCOUNT.REC.REMOTE_VERSION', 'Oracle.W4DBN4.HDB.YGACCOUNT.YGACCOUNT_BODY.<6,1>PLSQL_BLOCK.<10,5>SELECT INTO.35 REMOTE_VERSION', 'PLSQL SelectInto', 'Oracle', 'W4DBN4', 'HDB', datetime.datetime(2025, 2, 6, 10, 42, 9)), ('ACCOUNT', 'Oracle.W4DBN4.HDB.YTACCOUNT.YTACCOUNT_BODY.<8,1>PLSQL_BLOCK.<12,14>YTACCOUNT.REC.REMOTE_VERSION,Oracle.W4DBN4.HDB.YGACCOUNT.REC.REMOTE_VERSION,Oracle.W4DBN4.HDB.YTACCOUNT.REC.REMOTE_VERSION,Oracle.W4DBN4.HDB.YTACCOUNT.YTACCOUNT_BODY.<8,1>PLSQL_BLOCK.<13,5>ASSIGNMENT.40 REMOTE_VERSION,Oracle.W4DBN4.HDB.ACCOUNT.REMOTE_VERSION,Oracle.W4DBN4.HDB.YTACCOUNT.YTACCOUNT_BODY.<8,1>PLSQL_BLOCK.<58,5>UPDATE.34 REMOTE_VERSION,Oracle.W4DBN4.HDB.CUST_DOC_IN_STAT_AFTER.CUST_DOC_IN_STAT_AFTER_BODY.CALC_MTR.CALC_MTR_BODY.INIT_CARD_MTR.INIT_CARD_MTR_BODY.<193,5>PLSQL_BLOCK.<195,20>YGACCOUNT.REC.REMOTE_VERSION,Oracle.W4DBN4.HDB.YGACCOUNT.YGACCOUNT_BODY.<6,1>PLSQL_BLOCK.<10,5>SELECT INTO.35 REMOTE_VERSION', 'Oracle.W4DBN4.HDB.YTACCOUNT.YTACCOUNT_BODY.<8,1>PLSQL_BLOCK.<13,5>ASSIGNMENT.40 REMOTE_VERSION', 'PLSQL VarAssignment', 'Oracle', 'W4DBN4', 'HDB', datetime.datetime(2025, 2, 6, 10, 42, 9)), ('ACCOUNT', 'Oracle.W4DBN4.HDB.YTACCOUNT.YTACCOUNT_BODY.<8,1>PLSQL_BLOCK.<12,14>YTACCOUNT.REC.REMOTE_VERSION,Oracle.W4DBN4.HDB.YGACCOUNT.REC.REMOTE_VERSION,Oracle.W4DBN4.HDB.YTACCOUNT.REC.REMOTE_VERSION,Oracle.W4DBN4.HDB.YTACCOUNT.YTACCOUNT_BODY.<8,1>PLSQL_BLOCK.<13,5>ASSIGNMENT.40 REMOTE_VERSION,Oracle.W4DBN4.HDB.ACCOUNT.REMOTE_VERSION,Oracle.W4DBN4.HDB.YTACCOUNT.YTACCOUNT_BODY.<8,1>PLSQL_BLOCK.<58,5>UPDATE.34 REMOTE_VERSION,Oracle.W4DBN4.HDB.CUST_DOC_IN_STAT_AFTER.CUST_DOC_IN_STAT_AFTER_BODY.CALC_MTR.CALC_MTR_BODY.INIT_CARD_MTR.INIT_CARD_MTR_BODY.<193,5>PLSQL_BLOCK.<195,20>YGACCOUNT.REC.REMOTE_VERSION,Oracle.W4DBN4.HDB.YGACCOUNT.YGACCOUNT_BODY.<6,1>PLSQL_BLOCK.<10,5>SELECT INTO.35 REMOTE_VERSION', 'Oracle.W4DBN4.HDB.YTACCOUNT.YTACCOUNT_BODY.<8,1>PLSQL_BLOCK.<58,5>UPDATE.34 REMOTE_VERSION', 'PLSQL Update', 'Oracle', 'W4DBN4', 'HDB', datetime.datetime(2025, 2, 6, 10, 42, 9)), ('ACCOUNT', 'Oracle.W4DBN4.HDB.YTACCOUNT.YTACCOUNT_BODY.<8,1>PLSQL_BLOCK.<12,14>YTACCOUNT.REC.REMOTE_VERSION,Oracle.W4DBN4.HDB.YGACCOUNT.REC.REMOTE_VERSION,Oracle.W4DBN4.HDB.YTACCOUNT.REC.REMOTE_VERSION,Oracle.W4DBN4.HDB.YTACCOUNT.YTACCOUNT_BODY.<8,1>PLSQL_BLOCK.<13,5>ASSIGNMENT.40 REMOTE_VERSION,Oracle.W4DBN4.HDB.ACCOUNT.REMOTE_VERSION,Oracle.W4DBN4.HDB.YTACCOUNT.YTACCOUNT_BODY.<8,1>PLSQL_BLOCK.<58,5>UPDATE.34 REMOTE_VERSION,Oracle.W4DBN4.HDB.CUST_DOC_IN_STAT_AFTER.CUST_DOC_IN_STAT_AFTER_BODY.CALC_MTR.CALC_MTR_BODY.INIT_CARD_MTR.INIT_CARD_MTR_BODY.<193,5>PLSQL_BLOCK.<195,20>YGACCOUNT.REC.REMOTE_VERSION,Oracle.W4DBN4.HDB.YGACCOUNT.YGACCOUNT_BODY.<6,1>PLSQL_BLOCK.<10,5>SELECT INTO.35 REMOTE_VERSION', 'Oracle.W4DBN4.HDB.ACCOUNT.REMOTE_VERSION', 'Table', 'Oracle', 'W4DBN4', 'HDB', datetime.datetime(2025, 2, 6, 10, 42, 9)), ('ACCOUNT', 'Oracle.W4DBN4.HDB.YTACCOUNT.YTACCOUNT_BODY.<8,1>PLSQL_BLOCK.<12,14>YTACCOUNT.REC.REMOTE_VERSION,Oracle.W4DBN4.HDB.YGACCOUNT.REC.REMOTE_VERSION,Oracle.W4DBN4.HDB.YTACCOUNT.REC.REMOTE_VERSION,Oracle.W4DBN4.HDB.YTACCOUNT.YTACCOUNT_BODY.<8,1>PLSQL_BLOCK.<13,5>ASSIGNMENT.40 REMOTE_VERSION,Oracle.W4DBN4.HDB.ACCOUNT.REMOTE_VERSION,Oracle.W4DBN4.HDB.YTACCOUNT.YTACCOUNT_BODY.<8,1>PLSQL_BLOCK.<58,5>UPDATE.34 REMOTE_VERSION,Oracle.W4DBN4.HDB.CUST_DOC_IN_STAT_AFTER.CUST_DOC_IN_STAT_AFTER_BODY.CALC_MTR.CALC_MTR_BODY.INIT_CARD_MTR.INIT_CARD_MTR_BODY.<193,5>PLSQL_BLOCK.<195,20>YGACCOUNT.REC.REMOTE_VERSION,Oracle.W4DBN4.HDB.YGACCOUNT.YGACCOUNT_BODY.<6,1>PLSQL_BLOCK.<10,5>SELECT INTO.35 REMOTE_VERSION', 'Oracle.W4DBN4.HDB.YGACCOUNT.YGACCOUNT_BODY.<6,1>PLSQL_BLOCK.<10,5>SELECT INTO.35 REMOTE_VERSION', 'PLSQL SelectInto', 'Oracle', 'W4DBN4', 'HDB', datetime.datetime(2025, 2, 6, 10, 42, 9)), ('ACCOUNT', 'Oracle.W4DBN4.HDB.YTACCOUNT.YTACCOUNT_BODY.<8,1>PLSQL_BLOCK.<12,14>YTACCOUNT.REC.REMOTE_VERSION,Oracle.W4DBN4.HDB.YGACCOUNT.REC.REMOTE_VERSION,Oracle.W4DBN4.HDB.CUST_DOC_IN_STAT_AFTER.CUST_DOC_IN_STAT_AFTER_BODY.CALC_MTR_GLFEE.CALC_MTR_GLFEE_BODY.INIT_CARD_MTR_GLFEE.INIT_CARD_MTR_GLFEE_BODY.<453,5>PLSQL_BLOCK.<457,20>YGACCOUNT.REC.REMOTE_VERSION,Oracle.W4DBN4.HDB.YTACCOUNT.REC.REMOTE_VERSION,Oracle.W4DBN4.HDB.YTACCOUNT.YTACCOUNT_BODY.<8,1>PLSQL_BLOCK.<13,5>ASSIGNMENT.40 REMOTE_VERSION,Oracle.W4DBN4.HDB.ACCOUNT.REMOTE_VERSION,Oracle.W4DBN4.HDB.YTACCOUNT.YTACCOUNT_BODY.<8,1>PLSQL_BLOCK.<58,5>UPDATE.34 REMOTE_VERSION,Oracle.W4DBN4.HDB.YGACCOUNT.YGACCOUNT_BODY.<6,1>PLSQL_BLOCK.<10,5>SELECT INTO.35 REMOTE_VERSION', 'Oracle.W4DBN4.HDB.YTACCOUNT.YTACCOUNT_BODY.<8,1>PLSQL_BLOCK.<13,5>ASSIGNMENT.40 REMOTE_VERSION', 'PLSQL VarAssignment', 'Oracle', 'W4DBN4', 'HDB', datetime.datetime(2025, 2, 6, 10, 42, 9))]\n"
     ]
    }
   ],
   "source": [
    "data = db_connection.get_data(connection = db_connect, query = f\"SELECT * FROM {LINEAGE_MANTA_TABLE_FLOW_TEST} WHERE ROWNUM <= 10\")\n",
    "print(data)"
   ]
  },
  {
   "cell_type": "code",
   "execution_count": 10,
   "metadata": {},
   "outputs": [],
   "source": [
    "# db_connection.drop_table(connection = db_connect, table_name = LINEAGE_MANTA_TABLE_FLOW_TEST)"
   ]
  },
  {
   "cell_type": "code",
   "execution_count": 11,
   "metadata": {},
   "outputs": [],
   "source": [
    "\n",
    "\n",
    "\n",
    "# table = extract_components(graph,'Raw_Node')\n",
    "# # print(table)"
   ]
  },
  {
   "cell_type": "code",
   "execution_count": null,
   "metadata": {},
   "outputs": [],
   "source": []
  }
 ],
 "metadata": {
  "kernelspec": {
   "display_name": "base",
   "language": "python",
   "name": "python3"
  },
  "language_info": {
   "codemirror_mode": {
    "name": "ipython",
    "version": 3
   },
   "file_extension": ".py",
   "mimetype": "text/x-python",
   "name": "python",
   "nbconvert_exporter": "python",
   "pygments_lexer": "ipython3",
   "version": "3.9.7"
  }
 },
 "nbformat": 4,
 "nbformat_minor": 2
}

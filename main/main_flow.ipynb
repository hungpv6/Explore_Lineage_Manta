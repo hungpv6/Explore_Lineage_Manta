{
 "cells": [
  {
   "cell_type": "code",
   "execution_count": 1,
   "metadata": {},
   "outputs": [
    {
     "name": "stdout",
     "output_type": "stream",
     "text": [
      "os.getcwd(), c:\\Users\\hungpv6\\Documents\\GitHub\\DG_tool\\main\n"
     ]
    }
   ],
   "source": [
    "import pandas as pd\n",
    "import os\n",
    "import time\n",
    "import sys\n",
    "sys.path.append(os.path.dirname(os.getcwd()))\n",
    "from model import LineageMantaObject\n",
    "from utils import create_raw_table, transfrom_column_name_before_create_table, convert_df_to_oracle_format\n",
    "from config import NODE_PATH, LINEAGE_SOURCE, LINEAGE_TARGET,EXPORT_MANTA_FILE_PATH, LINEAGE_MANTA_TABLE_NAME_RAW, TABLE_MANTA_LINEAGE_RAW_COLUMN, LINEAGE_MANTA_TABLE_FLOW_TEST, TABLE_MANTA_LINEAGE_FLOW\n",
    "from repo import RepoLineage"
   ]
  },
  {
   "cell_type": "code",
   "execution_count": null,
   "metadata": {},
   "outputs": [
    {
     "name": "stdout",
     "output_type": "stream",
     "text": [
      "LINEAGE_MANTA_TEST\n",
      "TABLE_NAME =  ACCOUNT | FILE_NAME=  relations_ACCOUNT | file_path =  C:/Users/hungpv6/Downloads/manta_data_file/linage_manta_export_file/relations_ACCOUNT.csv\n"
     ]
    }
   ],
   "source": [
    "\n",
    "# if __name__ == '__main__':\n",
    "#     start_time = time.time()\n",
    "#     object = LineageMantaObject(lineage_name= 'manta')\n",
    "#     df_raw, table_name_list = create_raw_table(object)\n",
    "#     df_graph = None\n",
    "#     pd.set_option('display.max_rows', None)\n",
    "#     for table_name in table_name_list:\n",
    "#         df = df_raw.query(f\"Table_name == '{table_name}' \")\n",
    "#         # df = df_raw.loc[df_raw['TABLE_NAME'] == table_name]\n",
    "#         df_describe = object.describe_table(\n",
    "#             df_path=df,\n",
    "#             source_col=LINEAGE_SOURCE,\n",
    "#             target_col=LINEAGE_TARGET,\n",
    "\n",
    "#         )\n",
    "#         all_values = list(df_describe['all_values'])\n",
    "#         redact_node_df = object.redact_node_with_int(total_nodes_df=df)\n",
    "#         combo_list = redact_node_df[NODE_PATH].tolist()\n",
    "#         dictionary = object.mapping_dict_nodepath(df =redact_node_df)\n",
    "#         adjacency_list = object.create_adjacency_list(dictionary = dictionary )\n",
    "#         combo_list_copy = combo_list.copy()\n",
    "#         graph = object.deploy_lineage_manta(df_raw= df, \n",
    "#                                             combo_list_copy=combo_list_copy, \n",
    "#                                             dictionary=dictionary,\n",
    "#                                             adjacency_list = adjacency_list, \n",
    "#                                             source_col=LINEAGE_SOURCE, \n",
    "#                                             target_col=LINEAGE_TARGET)\n",
    "#         object.add_name_of_table_column(df = graph, table_name = table_name)\n",
    "#         if df_graph is None:\n",
    "#             df_graph = graph\n",
    "#         else:\n",
    "#             df_graph = pd.concat([df_graph, graph])\n",
    "#         end_time = time.time()\n",
    "#         if (int(end_time) - int(start_time)) >= 300:\n",
    "#             print(f\"Time elapsed --- need impove the algorithm: {end_time - start_time} seconds\")\n",
    "#             break\n",
    "#     # df_graph = object.extract_components(table = df_graph, column_extract='Raw_Node')\n",
    "#     # df_graph = transfrom_column_name_before_create_table(df=df_graph)\n"
   ]
  },
  {
   "cell_type": "code",
   "execution_count": null,
   "metadata": {},
   "outputs": [
    {
     "name": "stdout",
     "output_type": "stream",
     "text": [
      "<class 'pandas.core.frame.DataFrame'>\n",
      "                                  Flow_implement_raw  \\\n",
      "0  Oracle.W4DBN4.HDB.YTACCOUNT.YTACCOUNT_BODY.<8,...   \n",
      "1  Oracle.W4DBN4.HDB.YTACCOUNT.YTACCOUNT_BODY.<8,...   \n",
      "2  Oracle.W4DBN4.HDB.YTACCOUNT.YTACCOUNT_BODY.<8,...   \n",
      "3  Oracle.W4DBN4.HDB.YTACCOUNT.YTACCOUNT_BODY.<8,...   \n",
      "4  Oracle.W4DBN4.HDB.YTACCOUNT.YTACCOUNT_BODY.<8,...   \n",
      "5  Oracle.W4DBN4.HDB.YACCOUNT.YACCOUNT_BODY.<6,1>...   \n",
      "6  Oracle.W4DBN4.HDB.ACCOUNT.REMOTE_VERSION,Oracl...   \n",
      "7  Oracle.W4DBN4.HDB.ACCOUNT.REMOTE_VERSION,Oracl...   \n",
      "8  Oracle.W4DBN4.HDB.ACCOUNT.REMOTE_VERSION,Oracl...   \n",
      "9  Oracle.W4DBN4.HDB.ACCOUNT.REMOTE_VERSION,Oracl...   \n",
      "\n",
      "                                            Raw_Node      ValueObjectType  \\\n",
      "0  Oracle.W4DBN4.HDB.YTACCOUNT.YTACCOUNT_BODY.<8,...  PLSQL VarAssignment   \n",
      "1  Oracle.W4DBN4.HDB.YTACCOUNT.YTACCOUNT_BODY.<8,...  PLSQL VarAssignment   \n",
      "2  Oracle.W4DBN4.HDB.YTACCOUNT.YTACCOUNT_BODY.<8,...  PLSQL VarAssignment   \n",
      "3  Oracle.W4DBN4.HDB.YTACCOUNT.YTACCOUNT_BODY.<8,...  PLSQL VarAssignment   \n",
      "4  Oracle.W4DBN4.HDB.YTACCOUNT.YTACCOUNT_BODY.<8,...  PLSQL VarAssignment   \n",
      "5  Oracle.W4DBN4.HDB.YTACCOUNT.YTACCOUNT_BODY.<8,...  PLSQL VarAssignment   \n",
      "6  Oracle.W4DBN4.HDB.YTACCOUNT.YTACCOUNT_BODY.<8,...  PLSQL VarAssignment   \n",
      "7  Oracle.W4DBN4.HDB.YTACCOUNT.YTACCOUNT_BODY.<8,...         PLSQL Update   \n",
      "8  Oracle.W4DBN4.HDB.YTACCOUNT.YTACCOUNT_BODY.<8,...  PLSQL VarAssignment   \n",
      "9  Oracle.W4DBN4.HDB.YTACCOUNT.YTACCOUNT_BODY.<8,...         PLSQL Insert   \n",
      "\n",
      "  Table_name  \n",
      "0    ACCOUNT  \n",
      "1    ACCOUNT  \n",
      "2    ACCOUNT  \n",
      "3    ACCOUNT  \n",
      "4    ACCOUNT  \n",
      "5    ACCOUNT  \n",
      "6    ACCOUNT  \n",
      "7    ACCOUNT  \n",
      "8    ACCOUNT  \n",
      "9    ACCOUNT  \n",
      "10147\n"
     ]
    }
   ],
   "source": [
    "# print(type(df_graph))\n",
    "# print(df_graph.head(10))\n",
    "# print(len(df_graph))"
   ]
  },
  {
   "cell_type": "code",
   "execution_count": null,
   "metadata": {},
   "outputs": [],
   "source": [
    "# print(df_graph.head(10)) "
   ]
  },
  {
   "cell_type": "code",
   "execution_count": 2,
   "metadata": {},
   "outputs": [
    {
     "name": "stdout",
     "output_type": "stream",
     "text": [
      "Connection to database 'test' established successfully.\n"
     ]
    }
   ],
   "source": [
    "database = 'test'\n",
    "enviroment = 'DEV'\n",
    "db_connection = RepoLineage()\n",
    "db_connect = db_connection.get_connection(db_name='test',environment = 'DEV', user = 'dtc')\n",
    "# data = db_connection.create_lineage_manta_table(connection = db_connect,\n",
    "#                                                 table_name = LINEAGE_MANTA_TABLE_NAME_RAW,\n",
    "#                                                 column_definitions= TABLE_MANTA_LINEAGE_RAW_COLUMN)\n",
    "# db_connection.insert_data_from_dataframe(connection = db_connect, table_name = LINEAGE_MANTA_TABLE_NAME_RAW, dataframe=convert_df_to_oracle_format(transfrom_column_name_before_create_table(df_raw)))"
   ]
  },
  {
   "cell_type": "code",
   "execution_count": null,
   "metadata": {},
   "outputs": [],
   "source": [
    "# data = db_connection.create_lineage_manta_table(connection = db_connect,\n",
    "#                                                 table_name = LINEAGE_MANTA_TABLE_FLOW_TEST,\n",
    "#                                                 column_definitions= TABLE_MANTA_LINEAGE_FLOW)\n",
    "\n"
   ]
  },
  {
   "cell_type": "code",
   "execution_count": null,
   "metadata": {},
   "outputs": [],
   "source": [
    "# db_connection.insert_data_from_dataframe(connection = db_connect, table_name = LINEAGE_MANTA_TABLE_FLOW_TEST, dataframe=convert_df_to_oracle_format(transfrom_column_name_before_create_table(df_graph)))"
   ]
  },
  {
   "cell_type": "code",
   "execution_count": null,
   "metadata": {},
   "outputs": [],
   "source": [
    "# data = db_connection.get_data(connection = db_connect, query = f\"SELECT * FROM {LINEAGE_MANTA_TABLE_NAME_RAW} WHERE ROWNUM <= 1000\")\n",
    "# print(data)"
   ]
  },
  {
   "cell_type": "code",
   "execution_count": null,
   "metadata": {},
   "outputs": [],
   "source": [
    "# data = db_connection.get_data(connection = db_connect, query = f\"SELECT * FROM {LINEAGE_MANTA_TABLE_FLOW_TEST} WHERE ROWNUM <= 10\")\n",
    "# print(data)"
   ]
  },
  {
   "cell_type": "code",
   "execution_count": 5,
   "metadata": {},
   "outputs": [],
   "source": [
    "db_connection.drop_table(connection = db_connect, table_name = 'LINEAGE_MANTA_FLOW_MAIN')"
   ]
  },
  {
   "cell_type": "code",
   "execution_count": null,
   "metadata": {},
   "outputs": [],
   "source": [
    "\n",
    "\n",
    "\n",
    "# table = extract_components(graph,'Raw_Node')\n",
    "# # print(table)"
   ]
  },
  {
   "cell_type": "code",
   "execution_count": null,
   "metadata": {},
   "outputs": [
    {
     "name": "stdout",
     "output_type": "stream",
     "text": [
      "[[(0, 2, 0), (1, 2, 1868), (2, 1868, 72)], [(0, 22, 0), (1, 22, 282)], [(0, 1, 0)]]\n"
     ]
    }
   ],
   "source": []
  }
 ],
 "metadata": {
  "kernelspec": {
   "display_name": "base",
   "language": "python",
   "name": "python3"
  },
  "language_info": {
   "codemirror_mode": {
    "name": "ipython",
    "version": 3
   },
   "file_extension": ".py",
   "mimetype": "text/x-python",
   "name": "python",
   "nbconvert_exporter": "python",
   "pygments_lexer": "ipython3",
   "version": "3.9.7"
  }
 },
 "nbformat": 4,
 "nbformat_minor": 2
}
